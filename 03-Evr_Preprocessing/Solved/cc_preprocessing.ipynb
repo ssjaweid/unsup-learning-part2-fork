{
 "cells": [
  {
   "cell_type": "code",
   "execution_count": null,
   "metadata": {},
   "outputs": [],
   "source": [
    "# Import the required modules\n",
    "import pandas as pd\n",
    "from pathlib import Path\n",
    "import hvplot.pandas"
   ]
  },
  {
   "cell_type": "markdown",
   "metadata": {},
   "source": [
    "## Load the Credit Card Data into a Pandas DataFrame"
   ]
  },
  {
   "cell_type": "code",
   "execution_count": null,
   "metadata": {},
   "outputs": [],
   "source": [
    "# Read in the CSV file as a Pandas Dataframe\n",
    "ccinfo_df = pd.read_csv(\n",
    "    Path(\"../Resources/cc_info_default.csv\")\n",
    ")"
   ]
  },
  {
   "cell_type": "code",
   "execution_count": null,
   "metadata": {},
   "outputs": [],
   "source": [
    "# Review the DataFrame\n",
    "ccinfo_df.tail()"
   ]
  },
  {
   "cell_type": "code",
   "execution_count": null,
   "metadata": {},
   "outputs": [],
   "source": [
    "# Review the info\n",
    "ccinfo_df.info()"
   ]
  },
  {
   "cell_type": "markdown",
   "metadata": {},
   "source": [
    "## Transform \"education\" column with get_dummies"
   ]
  },
  {
   "cell_type": "code",
   "execution_count": null,
   "metadata": {},
   "outputs": [],
   "source": [
    "# Verify the categories of the \"education\" column\n",
    "ccinfo_df[\"education\"].value_counts()"
   ]
  },
  {
   "cell_type": "code",
   "execution_count": null,
   "metadata": {},
   "outputs": [],
   "source": [
    "# Transform the education column using get_dummies\n",
    "education_dummies = pd.get_dummies(ccinfo_df[\"education\"])\n",
    "\n",
    "# Display the transformed data\n",
    "education_dummies.tail()"
   ]
  },
  {
   "cell_type": "code",
   "execution_count": null,
   "metadata": {},
   "outputs": [],
   "source": [
    "# Concatenate the df_shopping_transformed and the card_dummies DataFrames\n",
    "ccinfo_df = pd.concat([ccinfo_df, education_dummies], axis=1)\n",
    "\n",
    "# Drop the original education column\n",
    "ccinfo_df = ccinfo_df.drop(columns=[\"education\"])\n",
    "\n",
    "# Display the DataFrame\n",
    "ccinfo_df.head()"
   ]
  },
  {
   "cell_type": "markdown",
   "metadata": {},
   "source": [
    "## Transform \"marriage\" column with encoding function"
   ]
  },
  {
   "cell_type": "code",
   "execution_count": null,
   "metadata": {},
   "outputs": [],
   "source": [
    "# Encoding the marriage column using a custom function\n",
    "def encode_marriage(marriage):\n",
    "    \"\"\"\n",
    "    This function encodes marital status by setting yes as 1 and no as 0.\n",
    "    \"\"\"\n",
    "    if marriage == \"yes\":\n",
    "        return 1\n",
    "    else:\n",
    "        return 0\n",
    "\n",
    "# Call the encode_marriage function on the marriage column\n",
    "ccinfo_df[\"marriage\"] = ccinfo_df[\"marriage\"].apply(encode_marriage)\n",
    "\n",
    "# Review the DataFrame \n",
    "ccinfo_df.head()"
   ]
  },
  {
   "cell_type": "markdown",
   "metadata": {},
   "source": [
    "## Apply the Standard Scaler to \"limit_bal\", \"bill_amt\", \"pay_amt\""
   ]
  },
  {
   "cell_type": "code",
   "execution_count": null,
   "metadata": {},
   "outputs": [],
   "source": [
    "# Import the module\n",
    "from sklearn.preprocessing import StandardScaler"
   ]
  },
  {
   "cell_type": "code",
   "execution_count": null,
   "metadata": {},
   "outputs": [],
   "source": [
    "# Scaling the numeric columns\n",
    "ccinfo_data_scaled = StandardScaler().fit_transform(ccinfo_df[[\"limit_bal\", \"bill_amt\", \"pay_amt\"]])\n",
    "\n",
    "# Review the scaled data\n",
    "ccinfo_data_scaled"
   ]
  },
  {
   "cell_type": "code",
   "execution_count": null,
   "metadata": {},
   "outputs": [],
   "source": [
    "# Create a DataFrame of the scaled data\n",
    "ccinfo_data_scaled = pd.DataFrame(ccinfo_data_scaled, columns=[\"limit_bal\", \"bill_amt\", \"pay_amt\"])\n",
    "\n",
    "# Replace the original data with the columns of information from the scaled Data\n",
    "ccinfo_df[\"limit_bal\"] = ccinfo_data_scaled[\"limit_bal\"]\n",
    "ccinfo_df[\"bill_amt\"] = ccinfo_data_scaled[\"bill_amt\"]\n",
    "ccinfo_df[\"pay_amt\"] = ccinfo_data_scaled[\"pay_amt\"]\n",
    "\n",
    "# Review the DataFrame\n",
    "ccinfo_df.head()"
   ]
  },
  {
   "cell_type": "markdown",
   "metadata": {},
   "source": [
    "## Elbow Method to find k"
   ]
  },
  {
   "cell_type": "code",
   "execution_count": null,
   "metadata": {},
   "outputs": [],
   "source": [
    "# Import the KMeans module from SKLearn\n",
    "from sklearn.cluster import KMeans"
   ]
  },
  {
   "cell_type": "code",
   "execution_count": null,
   "metadata": {},
   "outputs": [],
   "source": [
    "# Create a a list to store inertia values and the values of k\n",
    "inertia = []\n",
    "k = list(range(1, 11))"
   ]
  },
  {
   "cell_type": "code",
   "execution_count": null,
   "metadata": {},
   "outputs": [],
   "source": [
    "# Create a for-loop where each value of k is evaluated using the K-means algorithm\n",
    "# Fit the model using the service_ratings DataFrame\n",
    "# Append the value of the computed inertia from the `inertia_` attribute of the KMeans model instance\n",
    "for i in k:\n",
    "    k_model = KMeans(n_clusters=i, random_state=0)\n",
    "    k_model.fit(ccinfo_df)\n",
    "    inertia.append(k_model.inertia_)\n",
    "    "
   ]
  },
  {
   "cell_type": "code",
   "execution_count": null,
   "metadata": {},
   "outputs": [],
   "source": [
    "# Define a DataFrame to hold the values for k and the corresponding inertia\n",
    "elbow_data = {\"k\": k, \"inertia\": inertia}\n",
    "df_elbow = pd.DataFrame(elbow_data)\n",
    "\n",
    "# Review the DataFrame\n",
    "df_elbow.head()"
   ]
  },
  {
   "cell_type": "code",
   "execution_count": null,
   "metadata": {},
   "outputs": [],
   "source": [
    "# Plot the DataFrame\n",
    "df_elbow.hvplot.line(\n",
    "    x=\"k\", \n",
    "    y=\"inertia\", \n",
    "    title=\"Elbow Curve\", \n",
    "    xticks=k\n",
    ")"
   ]
  },
  {
   "cell_type": "markdown",
   "metadata": {},
   "source": [
    "## Kmeans algo to cluster data"
   ]
  },
  {
   "cell_type": "code",
   "execution_count": null,
   "metadata": {},
   "outputs": [],
   "source": [
    "# Define the model with 3 clusters\n",
    "model = KMeans(n_clusters=3, random_state=3)\n",
    "\n",
    "# Fit the model\n",
    "model.fit(ccinfo_df)\n",
    "\n",
    "# Make predictions\n",
    "k_3 = model.predict(ccinfo_df)\n",
    "\n",
    "# Create a copy of the preprocessed data\n",
    "ccinfo_predictions_df = ccinfo_df.copy()\n",
    "\n",
    "# Add a class column with the labels\n",
    "ccinfo_predictions_df['customer_segments'] = k_3"
   ]
  },
  {
   "cell_type": "code",
   "execution_count": null,
   "metadata": {},
   "outputs": [],
   "source": [
    "# Plot the clusters\n",
    "ccinfo_predictions_df.hvplot.scatter(\n",
    "    x=\"limit_bal\",\n",
    "    y=\"age\",\n",
    "    by=\"customer_segments\"\n",
    ")"
   ]
  },
  {
   "cell_type": "code",
   "execution_count": null,
   "metadata": {},
   "outputs": [],
   "source": []
  }
 ],
 "metadata": {
  "kernelspec": {
   "display_name": "Python 3 (ipykernel)",
   "language": "python",
   "name": "python3"
  },
  "language_info": {
   "codemirror_mode": {
    "name": "ipython",
    "version": 3
   },
   "file_extension": ".py",
   "mimetype": "text/x-python",
   "name": "python",
   "nbconvert_exporter": "python",
   "pygments_lexer": "ipython3",
   "version": "3.10.10"
  }
 },
 "nbformat": 4,
 "nbformat_minor": 4
}
