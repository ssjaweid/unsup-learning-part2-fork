{
 "cells": [
  {
   "cell_type": "code",
   "execution_count": null,
   "id": "026ac253",
   "metadata": {},
   "outputs": [],
   "source": [
    "import numpy as np\n",
    "np.random.seed(0)\n",
    "import pandas as pd\n",
    "import hvplot.pandas\n",
    "from sklearn import datasets\n",
    "import matplotlib.pyplot as plt"
   ]
  },
  {
   "cell_type": "markdown",
   "id": "3185b3bb",
   "metadata": {},
   "source": [
    "### Build the Dataset"
   ]
  },
  {
   "cell_type": "code",
   "execution_count": null,
   "id": "643a1bb6",
   "metadata": {},
   "outputs": [],
   "source": [
    "X, y = datasets.make_moons(n_samples=(500), noise=0.05, random_state=1)\n",
    "X[0:10]"
   ]
  },
  {
   "cell_type": "markdown",
   "id": "910151f4",
   "metadata": {},
   "source": [
    "### Fit and predict a K-Means Model"
   ]
  },
  {
   "cell_type": "code",
   "execution_count": null,
   "id": "47c57af9-5a24-4151-872b-1ae2a455e3a9",
   "metadata": {},
   "outputs": [],
   "source": [
    "X.shape"
   ]
  },
  {
   "cell_type": "code",
   "execution_count": null,
   "id": "84a7f244-2b79-4c7b-8e99-167d7271f312",
   "metadata": {},
   "outputs": [],
   "source": [
    "y"
   ]
  },
  {
   "cell_type": "code",
   "execution_count": null,
   "id": "f2a4cc5f-b7ba-4103-929e-075000a894eb",
   "metadata": {},
   "outputs": [],
   "source": [
    "plt.scatter(X[:,0], X[:,1], c = y, cmap='viridis')"
   ]
  },
  {
   "cell_type": "code",
   "execution_count": null,
   "id": "ba9dc321-28b5-4ef4-9b77-0abf4bdbc4de",
   "metadata": {},
   "outputs": [],
   "source": [
    "from sklearn.cluster import KMeans, AgglomerativeClustering, Birch"
   ]
  },
  {
   "cell_type": "code",
   "execution_count": null,
   "id": "e17f2dc8-a18b-4bb8-88b1-67555264c553",
   "metadata": {},
   "outputs": [],
   "source": [
    "k_model = KMeans(n_clusters=2, random_state=0, n_init=10)\n",
    "k_model.fit(X)\n",
    "kmeans_predictions = k_model.predict(X)\n",
    "prediction_df = pd.DataFrame(X)\n",
    "prediction_df[\"KMeans-labels\"] = kmeans_predictions\n",
    "prediction_df.hvplot.scatter(x = \"0\", y = \"1\", by = \"KMeans-labels\")"
   ]
  },
  {
   "cell_type": "code",
   "execution_count": null,
   "id": "9525d1b6-e84f-4662-80e4-caeed6bfc515",
   "metadata": {},
   "outputs": [],
   "source": [
    "# Fit and Predict Birch and Agglomerative models\n",
    "birch_model = Birch(n_clusters=3)\n",
    "birch_model.fit(X)\n",
    "birch_predictions = birch_model.predict(X)\n",
    "\n",
    "agglo_model = AgglomerativeClustering(n_clusters=3)\n",
    "agglo_predictions = agglo_model.fit_predict(X)\n",
    "\n",
    "#Plot\n",
    "\n",
    "predictions_df = pd.DataFrame(X)\n",
    "predictions_df['birch-labels'] = birch_predictions\n",
    "predictions_df['agglo-labels'] = agglo_predictions\n",
    "\n",
    "\n",
    "predictions_df.hvplot.scatter(\n",
    "    x=\"0\",\n",
    "    y=\"1\",\n",
    "    by=\"birch-labels\"\n",
    ")"
   ]
  },
  {
   "cell_type": "code",
   "execution_count": null,
   "id": "2df7d2fd-25a5-4206-99cd-d49c2cddc3f2",
   "metadata": {},
   "outputs": [],
   "source": [
    "birch_model_two_clusters = Birch(n_clusters=2)\n",
    "birch_model_two_clusters.fit(X)\n",
    "birch_predictions_2 = birch_model_two_clusters.predict(X)\n",
    "\n",
    "birch_model_three_clusters = Birch(n_clusters=3)\n",
    "birch_model_three_clusters.fit(X)\n",
    "birch_predictions_3 = birch_model_three_clusters.predict(X)\n",
    "\n",
    "from sklearn import metrics\n",
    "labels = birch_model_two_clusters.labels_\n",
    "score = metrics.calinski_harabasz_score(X, labels)  \n",
    "score"
   ]
  },
  {
   "cell_type": "code",
   "execution_count": null,
   "id": "ca1f460d-0923-469b-91cd-b1ad30b143ce",
   "metadata": {},
   "outputs": [],
   "source": [
    "labels = birch_model_three_clusters.labels_\n",
    "score = metrics.calinski_harabasz_score(X, labels)  \n",
    "score"
   ]
  },
  {
   "cell_type": "code",
   "execution_count": null,
   "id": "deb6b0a2-bec0-46d0-a537-c33616def539",
   "metadata": {},
   "outputs": [],
   "source": [
    "#distance between clusters/distance inside each clusters. "
   ]
  },
  {
   "cell_type": "code",
   "execution_count": null,
   "id": "8229be26-62de-4921-a8cb-2424db7eee98",
   "metadata": {},
   "outputs": [],
   "source": [
    "from sklearn.cluster import DBSCAN\n",
    "\n",
    "# Create a DBSCAN clusterer. You may need to adjust the eps and min_samples parameters.\n",
    "dbscan = DBSCAN(eps=0.3)\n",
    "\n",
    "# Fit the clusterer to the data.\n",
    "y_dbscan = dbscan.fit_predict(X)\n",
    "\n",
    "# Plot the data points, colored by cluster.\n",
    "plt.scatter(X[:, 0], X[:, 1], c=y_dbscan, cmap='viridis')\n",
    "plt.show()"
   ]
  },
  {
   "cell_type": "code",
   "execution_count": null,
   "id": "ba4a90df-3f07-48a9-826b-96fbae5778d6",
   "metadata": {},
   "outputs": [],
   "source": []
  }
 ],
 "metadata": {
  "kernelspec": {
   "display_name": "Python 3 (ipykernel)",
   "language": "python",
   "name": "python3"
  },
  "language_info": {
   "codemirror_mode": {
    "name": "ipython",
    "version": 3
   },
   "file_extension": ".py",
   "mimetype": "text/x-python",
   "name": "python",
   "nbconvert_exporter": "python",
   "pygments_lexer": "ipython3",
   "version": "3.10.10"
  }
 },
 "nbformat": 4,
 "nbformat_minor": 5
}
