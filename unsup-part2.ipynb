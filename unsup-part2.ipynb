{
 "cells": [
  {
   "cell_type": "code",
   "execution_count": null,
   "id": "c6cab454-c280-4bf4-8c5e-735d726f94eb",
   "metadata": {},
   "outputs": [],
   "source": [
    "# obs - > model  bottom fundmentals  , middle layer people emotions, top layer noise = price movements - > model \n",
    "# model -> predictions -> obs\n",
    "# obs -> model"
   ]
  }
 ],
 "metadata": {
  "kernelspec": {
   "display_name": "Python 3 (ipykernel)",
   "language": "python",
   "name": "python3"
  },
  "language_info": {
   "codemirror_mode": {
    "name": "ipython",
    "version": 3
   },
   "file_extension": ".py",
   "mimetype": "text/x-python",
   "name": "python",
   "nbconvert_exporter": "python",
   "pygments_lexer": "ipython3",
   "version": "3.10.10"
  }
 },
 "nbformat": 4,
 "nbformat_minor": 5
}
